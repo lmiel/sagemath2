{
 "cells": [
  {
   "cell_type": "code",
   "execution_count": 2,
   "id": "9a1f7c19",
   "metadata": {},
   "outputs": [
    {
     "data": {
      "text/plain": [
       "-4"
      ]
     },
     "execution_count": 2,
     "metadata": {},
     "output_type": "execute_result"
    }
   ],
   "source": [
    "floor(-3.56)"
   ]
  },
  {
   "cell_type": "code",
   "execution_count": 3,
   "id": "0ab36977",
   "metadata": {},
   "outputs": [
    {
     "data": {
      "text/plain": [
       "-3"
      ]
     },
     "execution_count": 3,
     "metadata": {},
     "output_type": "execute_result"
    }
   ],
   "source": [
    "ceil(-3.56)"
   ]
  },
  {
   "cell_type": "code",
   "execution_count": 6,
   "id": "d607da69",
   "metadata": {},
   "outputs": [
    {
     "data": {
      "text/plain": [
       "1.29472716759440 + 3.14159265358979*I"
      ]
     },
     "execution_count": 6,
     "metadata": {},
     "output_type": "execute_result"
    }
   ],
   "source": [
    "ln(-3.65)"
   ]
  },
  {
   "cell_type": "code",
   "execution_count": 5,
   "id": "b6d33ae4",
   "metadata": {
    "scrolled": true
   },
   "outputs": [
    {
     "data": {
      "text/plain": [
       "0.551449997972875 + 1.36437635384184*I"
      ]
     },
     "execution_count": 5,
     "metadata": {},
     "output_type": "execute_result"
    }
   ],
   "source": [
    "log(-3.56,10)"
   ]
  },
  {
   "cell_type": "code",
   "execution_count": 7,
   "id": "d3de86f9",
   "metadata": {},
   "outputs": [
    {
     "data": {
      "text/plain": [
       "2.30258509299405"
      ]
     },
     "execution_count": 7,
     "metadata": {},
     "output_type": "execute_result"
    }
   ],
   "source": [
    "ln(-3.65)/log(-3.65,10)"
   ]
  },
  {
   "cell_type": "code",
   "execution_count": 8,
   "id": "bc9c8094",
   "metadata": {},
   "outputs": [
    {
     "data": {
      "text/plain": [
       "6"
      ]
     },
     "execution_count": 8,
     "metadata": {},
     "output_type": "execute_result"
    }
   ],
   "source": [
    "log(64,2)"
   ]
  },
  {
   "cell_type": "code",
   "execution_count": 1,
   "id": "c36beb22",
   "metadata": {},
   "outputs": [
    {
     "data": {
      "text/plain": [
       "-1"
      ]
     },
     "execution_count": 1,
     "metadata": {},
     "output_type": "execute_result"
    }
   ],
   "source": [
    "exp(1)^(i*pi)"
   ]
  },
  {
   "cell_type": "code",
   "execution_count": 2,
   "id": "982deeb4",
   "metadata": {},
   "outputs": [
    {
     "data": {
      "text/plain": [
       "-1.00000000000000 + 1.22464679914735e-16*I"
      ]
     },
     "execution_count": 2,
     "metadata": {},
     "output_type": "execute_result"
    }
   ],
   "source": [
    "exp(1)^(i*pi.n())"
   ]
  },
  {
   "cell_type": "code",
   "execution_count": 3,
   "id": "66ce4899",
   "metadata": {},
   "outputs": [
    {
     "data": {
      "text/plain": [
       "1"
      ]
     },
     "execution_count": 3,
     "metadata": {},
     "output_type": "execute_result"
    }
   ],
   "source": [
    "sin(pi/2)"
   ]
  },
  {
   "cell_type": "code",
   "execution_count": 9,
   "id": "f946ebf2",
   "metadata": {},
   "outputs": [
    {
     "data": {
      "text/plain": [
       "1.00000000000000"
      ]
     },
     "execution_count": 9,
     "metadata": {},
     "output_type": "execute_result"
    }
   ],
   "source": [
    "cot(pi/4).n()"
   ]
  },
  {
   "cell_type": "code",
   "execution_count": 10,
   "id": "985088fc",
   "metadata": {},
   "outputs": [
    {
     "data": {
      "text/plain": [
       "5.12583089548301"
      ]
     },
     "execution_count": 10,
     "metadata": {},
     "output_type": "execute_result"
    }
   ],
   "source": [
    "csc(pi/16).n()"
   ]
  },
  {
   "cell_type": "code",
   "execution_count": null,
   "id": "57e73a0f",
   "metadata": {},
   "outputs": [],
   "source": []
  }
 ],
 "metadata": {
  "kernelspec": {
   "display_name": "SageMath 9.7",
   "language": "sage",
   "name": "sagemath-9.7"
  },
  "language_info": {
   "codemirror_mode": {
    "name": "ipython",
    "version": 3
   },
   "file_extension": ".py",
   "mimetype": "text/x-python",
   "name": "python",
   "nbconvert_exporter": "python",
   "pygments_lexer": "ipython3",
   "version": "3.10.5"
  }
 },
 "nbformat": 4,
 "nbformat_minor": 5
}
